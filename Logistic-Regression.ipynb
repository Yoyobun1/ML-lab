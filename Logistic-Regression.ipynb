{
 "cells": [
  {
   "cell_type": "code",
   "execution_count": 1,
   "id": "8267ef45-c30e-46ff-952d-f9920cbfaa1c",
   "metadata": {},
   "outputs": [
    {
     "name": "stderr",
     "output_type": "stream",
     "text": [
      "/usr/local/lib/python3.8/dist-packages/pandas/core/computation/expressions.py:20: UserWarning: Pandas requires version '2.7.3' or newer of 'numexpr' (version '2.7.1' currently installed).\n",
      "  from pandas.core.computation.check import NUMEXPR_INSTALLED\n"
     ]
    }
   ],
   "source": [
    "import pandas as pd\n",
    "import matplotlib.pyplot as plt\n",
    "from sklearn.linear_model import LogisticRegression\n",
    "from sklearn.model_selection import train_test_split\n",
    "from sklearn.metrics import accuracy_score,confusion_matrix\n",
    "from sklearn.preprocessing import LabelEncoder"
   ]
  },
  {
   "cell_type": "code",
   "execution_count": null,
   "id": "82a0eedd-a7e8-4d44-9514-0c0f8b175f97",
   "metadata": {},
   "outputs": [],
   "source": [
    "df=pd.read_csv(\"datasets/HEALTH_DATASET.csv\")\n",
    "le=LabelEncoder()\n",
    "cencoder=['glucose','bloodpressure']\n",
    "for c in cencoder:\n",
    "    df[c]=le.fit_transform(df[c])"
   ]
  },
  {
   "cell_type": "code",
   "execution_count": 6,
   "id": "7aa85dd8-c646-4151-ace7-7546471de751",
   "metadata": {},
   "outputs": [
    {
     "name": "stdout",
     "output_type": "stream",
     "text": [
      "     glucose  bloodpressure\n",
      "0          4             19\n",
      "1          4             23\n",
      "2          5              6\n",
      "3          5             16\n",
      "4          4             12\n",
      "..       ...            ...\n",
      "990        5             20\n",
      "991        4             18\n",
      "992        4             18\n",
      "993        4              4\n",
      "994        5             17\n",
      "\n",
      "[995 rows x 2 columns]\n",
      "0      0\n",
      "1      0\n",
      "2      1\n",
      "3      0\n",
      "4      1\n",
      "      ..\n",
      "990    0\n",
      "991    0\n",
      "992    0\n",
      "993    1\n",
      "994    0\n",
      "Name: diabetes, Length: 995, dtype: int64\n"
     ]
    }
   ],
   "source": [
    "x=df.iloc[:,:-1]\n",
    "print(x)\n",
    "y=df.iloc[:,-1]\n",
    "print(y)"
   ]
  },
  {
   "cell_type": "code",
   "execution_count": 7,
   "id": "6b0fe8d6-0af8-4167-925d-770ac760affa",
   "metadata": {},
   "outputs": [],
   "source": [
    "x_train,x_test,y_train,y_test=train_test_split(x,y,test_size=0.33,random_state=40)\n",
    "model=LogisticRegression()\n",
    "model.fit(x_train,y_train)\n",
    "y_pred=model.predict(x_test)"
   ]
  },
  {
   "cell_type": "code",
   "execution_count": 8,
   "id": "4e5866a2-46e7-4790-942f-96272732ac14",
   "metadata": {},
   "outputs": [
    {
     "name": "stdout",
     "output_type": "stream",
     "text": [
      "ACCURACY= 94.52887537993921\n",
      "CONFUSION MATRIX :\n",
      "[[163   6]\n",
      " [ 12 148]]\n"
     ]
    }
   ],
   "source": [
    "print(\"ACCURACY=\",accuracy_score(y_test,y_pred)*100)\n",
    "print(\"CONFUSION MATRIX :\")\n",
    "print(confusion_matrix(y_test,y_pred))     "
   ]
  },
  {
   "cell_type": "code",
   "execution_count": 11,
   "id": "3cdedb35-283a-41c5-94c5-7e395a22d6a8",
   "metadata": {},
   "outputs": [
    {
     "name": "stdout",
     "output_type": "stream",
     "text": [
      "[0]\n",
      "Not Diabetic\n"
     ]
    },
    {
     "name": "stderr",
     "output_type": "stream",
     "text": [
      "/usr/local/lib/python3.8/dist-packages/sklearn/base.py:465: UserWarning: X does not have valid feature names, but LogisticRegression was fitted with feature names\n",
      "  warnings.warn(\n"
     ]
    }
   ],
   "source": [
    "prediction = model.predict([[40,85]])\n",
    "print(prediction)\n",
    "if prediction[0] == 0:\n",
    "    print('Not Diabetic')\n",
    "else:\n",
    "    print('Diabetic')"
   ]
  },
  {
   "cell_type": "code",
   "execution_count": null,
   "id": "b213eb29-2d3c-4b2b-8108-2f33e88153ae",
   "metadata": {},
   "outputs": [],
   "source": []
  }
 ],
 "metadata": {
  "kernelspec": {
   "display_name": "Python 3 (ipykernel)",
   "language": "python",
   "name": "python3"
  },
  "language_info": {
   "codemirror_mode": {
    "name": "ipython",
    "version": 3
   },
   "file_extension": ".py",
   "mimetype": "text/x-python",
   "name": "python",
   "nbconvert_exporter": "python",
   "pygments_lexer": "ipython3",
   "version": "3.8.10"
  }
 },
 "nbformat": 4,
 "nbformat_minor": 5
}
