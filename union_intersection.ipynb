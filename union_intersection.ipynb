{
 "cells": [
  {
   "cell_type": "code",
   "execution_count": 13,
   "id": "c28fd0ca-c8d0-4212-8e6c-0ed560dde92e",
   "metadata": {},
   "outputs": [
    {
     "name": "stdout",
     "output_type": "stream",
     "text": [
      "List1\n"
     ]
    },
    {
     "name": "stdin",
     "output_type": "stream",
     "text": [
      "range of list1:  3\n",
      "Enter an element:  1\n",
      "Enter an element:  2\n",
      "Enter an element:  3\n"
     ]
    },
    {
     "name": "stdout",
     "output_type": "stream",
     "text": [
      "List2\n"
     ]
    },
    {
     "name": "stdin",
     "output_type": "stream",
     "text": [
      "range of list2:  6\n",
      "Enter an element:  1\n",
      "Enter an element:  2\n",
      "Enter an element:  3\n",
      "Enter an element:  a\n",
      "Enter an element:  b\n",
      "Enter an element:  c\n"
     ]
    },
    {
     "name": "stdout",
     "output_type": "stream",
     "text": [
      "UNION\n",
      "['1', '2', '3', 'a', 'b', 'c']\n",
      "['1', '2', '3']\n",
      "['1', '2', '3', 'a', 'b', 'c']\n",
      "INTERSECTION\n",
      "['1', '2', '3']\n"
     ]
    }
   ],
   "source": [
    "l1=[]\n",
    "l2=[]\n",
    "l3=[]\n",
    "l4=[]\n",
    "print('List1')\n",
    "x=int(input('range of list1: '))\n",
    "for i in range(0,x):\n",
    "    a=input('Enter an element: ')\n",
    "    l1.append(a)\n",
    "print('List2')\n",
    "y=int(input('range of list2: '))\n",
    "for i in range(0,y):\n",
    "    b=input('Enter an element: ')\n",
    "    l2.append(b)\n",
    "l3.extend(l1)\n",
    "print('UNION')\n",
    "for i in l2:\n",
    "    if i not in l3:\n",
    "        l3.append(i)\n",
    "print(l3)\n",
    "print(l1)\n",
    "print(l2)\n",
    "print('INTERSECTION')\n",
    "for i in l1:\n",
    "    for j in l2:\n",
    "        if i==j and i not in l4:\n",
    "            l4.append(i)\n",
    "print(l4)"
   ]
  }
 ],
 "metadata": {
  "kernelspec": {
   "display_name": "Python 3 (ipykernel)",
   "language": "python",
   "name": "python3"
  },
  "language_info": {
   "codemirror_mode": {
    "name": "ipython",
    "version": 3
   },
   "file_extension": ".py",
   "mimetype": "text/x-python",
   "name": "python",
   "nbconvert_exporter": "python",
   "pygments_lexer": "ipython3",
   "version": "3.8.10"
  }
 },
 "nbformat": 4,
 "nbformat_minor": 5
}
