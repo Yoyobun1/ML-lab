{
 "cells": [
  {
   "cell_type": "code",
   "execution_count": 1,
   "id": "bef12fe7-4389-4785-8a30-1fbaaf4ad293",
   "metadata": {},
   "outputs": [
    {
     "name": "stdout",
     "output_type": "stream",
     "text": [
      "Enter a sentence:  Marc name is Marc\n"
     ]
    },
    {
     "name": "stdout",
     "output_type": "stream",
     "text": [
      "marc occurs  2 times\n",
      "name occurs  1 times\n",
      "is occurs  1 times\n"
     ]
    }
   ],
   "source": [
    "x=input('Enter a sentence: ')\n",
    "y=x.lower()\n",
    "w=y.split()\n",
    "dic={}\n",
    "for i in w:\n",
    "    if i not in dic:\n",
    "        dic[i]=1\n",
    "    else:\n",
    "        dic[i]+=1\n",
    "for i in dic:\n",
    "    print(i,'occurs ',dic[i],'times')\n"
   ]
  },
  {
   "cell_type": "code",
   "execution_count": null,
   "id": "91897b12-c176-45c5-bca7-6b995370eb35",
   "metadata": {},
   "outputs": [],
   "source": []
  }
 ],
 "metadata": {
  "kernelspec": {
   "display_name": "Python 3 (ipykernel)",
   "language": "python",
   "name": "python3"
  },
  "language_info": {
   "codemirror_mode": {
    "name": "ipython",
    "version": 3
   },
   "file_extension": ".py",
   "mimetype": "text/x-python",
   "name": "python",
   "nbconvert_exporter": "python",
   "pygments_lexer": "ipython3",
   "version": "3.8.10"
  }
 },
 "nbformat": 4,
 "nbformat_minor": 5
}
