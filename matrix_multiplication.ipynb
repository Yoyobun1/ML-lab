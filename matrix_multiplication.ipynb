{
 "cells": [
  {
   "cell_type": "code",
   "execution_count": 1,
   "id": "d857933f-f9b1-4546-bc16-89f4e24ac3f7",
   "metadata": {},
   "outputs": [
    {
     "name": "stdout",
     "output_type": "stream",
     "text": [
      "Enter no of rows:  3\n",
      "Enter no of columns:  3\n"
     ]
    },
    {
     "name": "stdout",
     "output_type": "stream",
     "text": [
      "Enter elements to matrix1\n"
     ]
    },
    {
     "name": "stdout",
     "output_type": "stream",
     "text": [
      " 1\n",
      " 2\n",
      " 3\n",
      " 4\n",
      " 5\n",
      " 6\n",
      " 7\n",
      " 8\n",
      " 9\n"
     ]
    },
    {
     "name": "stdout",
     "output_type": "stream",
     "text": [
      "Enter elements to matrix2\n"
     ]
    },
    {
     "name": "stdout",
     "output_type": "stream",
     "text": [
      " 1\n",
      " 2\n",
      " 3\n",
      " 4\n",
      " 5\n",
      " 6\n",
      " 7\n",
      " 87\n",
      " 9\n"
     ]
    },
    {
     "name": "stdout",
     "output_type": "stream",
     "text": [
      "ADDITION\n",
      "[[2, 4, 6], [8, 10, 12], [14, 95, 18]] \n",
      "\n",
      "MULTIPLICATION\n",
      "[[21, 261, 27], [42, 522, 54], [63, 783, 81]]\n"
     ]
    }
   ],
   "source": [
    "m1=[[0,0,0],[0,0,0],[0,0,0]]\n",
    "m2=[[0,0,0],[0,0,0],[0,0,0]]\n",
    "r1=[[0,0,0],[0,0,0],[0,0,0]]\n",
    "r2=[[0,0,0],[0,0,0],[0,0,0]]\n",
    "r=int(input('Enter no of rows: '))\n",
    "c=int(input('Enter no of columns: '))\n",
    "print('Enter elements to matrix1')\n",
    "for i in range(r):\n",
    "    for j in range(c):\n",
    "        m1[i][j]=int(input())\n",
    "print('Enter elements to matrix2')\n",
    "for i in range(r):\n",
    "    for j in range(c):\n",
    "        m2[i][j]=int(input())        \n",
    "print('ADDITION')\n",
    "for i in range(len(m1)):\n",
    "    for j in range(len(m2)):\n",
    "        r1[i][j]=m1[i][j]+m2[i][j]\n",
    "print(r1,'\\n')\n",
    "print('MULTIPLICATION')\n",
    "for i in range(len(m1)):\n",
    "    for j in range(len(m2[0])):\n",
    "        for k in range(len(m1[0])):\n",
    "            r2[i][j]=m1[i][k]*m2[k][j]\n",
    "print(r2)\n",
    "        "
   ]
  }
 ],
 "metadata": {
  "kernelspec": {
   "display_name": "Python 3 (ipykernel)",
   "language": "python",
   "name": "python3"
  },
  "language_info": {
   "codemirror_mode": {
    "name": "ipython",
    "version": 3
   },
   "file_extension": ".py",
   "mimetype": "text/x-python",
   "name": "python",
   "nbconvert_exporter": "python",
   "pygments_lexer": "ipython3",
   "version": "3.8.10"
  }
 },
 "nbformat": 4,
 "nbformat_minor": 5
}
