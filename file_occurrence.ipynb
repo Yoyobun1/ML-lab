{
 "cells": [
  {
   "cell_type": "code",
   "execution_count": 1,
   "id": "e39de5fc-ea45-4410-8755-e3f97c5fc63c",
   "metadata": {},
   "outputs": [
    {
     "name": "stdout",
     "output_type": "stream",
     "text": [
      "{'marc': 8}\n",
      "marc : 8\n",
      "{'marc': 8, 'is': 1}\n",
      "marc : 8\n",
      "{'marc': 8, 'is': 1, 'a': 1}\n",
      "marc : 8\n",
      "{'marc': 8, 'is': 1, 'a': 1}\n",
      "marc : 8\n",
      "{'marc': 8, 'is': 1, 'a': 1}\n",
      "marc : 8\n",
      "{'marc': 8, 'is': 1, 'a': 1}\n",
      "marc : 8\n",
      "{'marc': 8, 'is': 1, 'a': 1}\n",
      "marc : 8\n",
      "{'marc': 8, 'is': 1, 'a': 1}\n",
      "marc : 8\n",
      "{'marc': 8, 'is': 1, 'a': 1}\n",
      "marc : 8\n",
      "{'marc': 8, 'is': 1, 'a': 1}\n",
      "marc : 8\n"
     ]
    }
   ],
   "source": [
    "with open('file.txt','r') as file:\n",
    "    contents=file.read()\n",
    "    words=contents.split()\n",
    "    d={}\n",
    "    for word in words:\n",
    "        d[word]=words.count(word)\n",
    "        print(d)\n",
    "        mf=max(d.values())\n",
    "        for key,val in d.items():\n",
    "            if val==mf:\n",
    "                print(key,':',mf)\n"
   ]
  },
  {
   "cell_type": "code",
   "execution_count": null,
   "id": "512c1a25-8f80-424b-8b46-3548210c693a",
   "metadata": {},
   "outputs": [],
   "source": []
  }
 ],
 "metadata": {
  "kernelspec": {
   "display_name": "Python 3 (ipykernel)",
   "language": "python",
   "name": "python3"
  },
  "language_info": {
   "codemirror_mode": {
    "name": "ipython",
    "version": 3
   },
   "file_extension": ".py",
   "mimetype": "text/x-python",
   "name": "python",
   "nbconvert_exporter": "python",
   "pygments_lexer": "ipython3",
   "version": "3.8.10"
  }
 },
 "nbformat": 4,
 "nbformat_minor": 5
}
